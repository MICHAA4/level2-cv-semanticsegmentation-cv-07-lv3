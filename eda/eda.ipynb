{
 "cells": [
  {
   "cell_type": "markdown",
   "metadata": {},
   "source": [
    "## EDA\n",
    "### 라이브러리"
   ]
  },
  {
   "cell_type": "code",
   "execution_count": 1,
   "metadata": {},
   "outputs": [],
   "source": [
    "import os\n",
    "import json\n",
    "from glob import glob\n",
    "\n",
    "import pandas as pd\n",
    "import seaborn as sns\n",
    "import matplotlib.pyplot as plt\n",
    "from collections import Counter, defaultdict\n",
    "from shapely.geometry import Polygon\n",
    "import cv2\n",
    "import numpy as np\n"
   ]
  },
  {
   "cell_type": "markdown",
   "metadata": {},
   "source": [
    "### 경로"
   ]
  },
  {
   "cell_type": "code",
   "execution_count": 2,
   "metadata": {},
   "outputs": [],
   "source": [
    "image_dir = \"../data/train/DCM\"\n",
    "json_dir = \"../data/train/outputs_json\" "
   ]
  },
  {
   "cell_type": "markdown",
   "metadata": {},
   "source": [
    "### Class 분포\n",
    "#### - Class별 개수"
   ]
  },
  {
   "cell_type": "code",
   "execution_count": null,
   "metadata": {},
   "outputs": [],
   "source": [
    "label_counts = Counter()\n",
    "\n",
    "for json_file in glob(os.path.join(json_dir, \"**\", \"*.json\"), recursive=True):\n",
    "    with open(json_file, \"r\", encoding=\"utf-8\") as file:\n",
    "        data = json.load(file)\n",
    "        label_counts.update(annotation['label'] for annotation in data['annotations'])\n",
    "\n",
    "plt.figure(figsize=(30, 10))\n",
    "plt.bar(label_counts.keys(), label_counts.values(), color=\"skyblue\")\n",
    "plt.xlabel(\"Class Label\")\n",
    "plt.ylabel(\"Count\")\n"
   ]
  },
  {
   "cell_type": "markdown",
   "metadata": {},
   "source": [
    "#### - Class별 pixel 차지 비율"
   ]
  },
  {
   "cell_type": "code",
   "execution_count": null,
   "metadata": {},
   "outputs": [],
   "source": [
    "json_files = glob(os.path.join(json_dir, 'ID*', '*.json'))\n",
    "\n",
    "label_pixel_counts = defaultdict(float)\n",
    "\n",
    "for json_file in json_files:\n",
    "    with open(json_file, 'r', encoding='utf-8') as file:\n",
    "        data = json.load(file)\n",
    "\n",
    "    image_width = data['metadata']['width']\n",
    "    image_height = data['metadata']['height']\n",
    "    total_pixels = image_width * image_height\n",
    "\n",
    "    for annotation in data['annotations']:\n",
    "        label = annotation['label']\n",
    "        points = annotation['points']\n",
    "\n",
    "        polygon = Polygon(points)\n",
    "        area = polygon.area\n",
    "\n",
    "        label_pixel_counts[label] += area\n",
    "\n",
    "total_area = sum(label_pixel_counts.values())\n",
    "\n",
    "label_pixel_ratios = {label: (count / total_area) * 100 for label, count in label_pixel_counts.items()}\n",
    "\n",
    "labels = list(label_pixel_ratios.keys())\n",
    "ratios = list(label_pixel_ratios.values())\n",
    "\n",
    "plt.figure(figsize=(10, 6))\n",
    "plt.bar(labels, ratios)\n",
    "plt.xlabel('Class')\n",
    "plt.ylabel('Pixel Ratio (%)')\n",
    "plt.title('Pixel Ratio by Class')\n",
    "plt.xticks(rotation=45, ha='right')\n",
    "plt.tight_layout()\n",
    "plt.show()"
   ]
  },
  {
   "cell_type": "markdown",
   "metadata": {},
   "source": [
    "#### - 이미지 당 29개의 클래스 유무 확인"
   ]
  },
  {
   "cell_type": "markdown",
   "metadata": {},
   "source": [
    "### Metadata 분포\n",
    "#### - 나이, 성별, 몸무게, 키 분포"
   ]
  },
  {
   "cell_type": "code",
   "execution_count": null,
   "metadata": {},
   "outputs": [],
   "source": [
    "csv_path = \"../data/meta_data.csv\"\n",
    "meta_data = pd.read_csv(csv_path)\n",
    "\n",
    "meta_data.columns = ['Id', 'Age', 'Gender', 'Weight', 'Height', 'Extra']\n",
    "meta_data = meta_data.replace({'Gender' : '남'}, 'Male')\n",
    "meta_data = meta_data.replace({'Gender' : '여'}, 'Female')\n",
    "\n",
    "plt.figure(figsize=(12, 10))\n",
    "\n",
    "# 나이 분포\n",
    "plt.subplot(2, 2, 1)\n",
    "sns.histplot(meta_data['Age'], bins=10, kde=True, color=\"skyblue\")\n",
    "plt.title(\"Age Distribution\")\n",
    "plt.xlabel(\"Age\")\n",
    "plt.ylabel(\"Frequency\")\n",
    "\n",
    "# 성별 분포\n",
    "plt.subplot(2, 2, 2)\n",
    "sns.countplot(x='Gender', data=meta_data, hue='Gender', palette=\"Set2\", legend=False)\n",
    "plt.title(\"Gender Distribution\")\n",
    "plt.xlabel(\"Gender\")\n",
    "plt.ylabel(\"Count\")\n",
    "\n",
    "# 몸무게 분포\n",
    "plt.subplot(2, 2, 3)\n",
    "sns.histplot(meta_data['Weight'], bins=10, kde=True, color=\"lightgreen\")\n",
    "plt.title(\"Weight Distribution\")\n",
    "plt.xlabel(\"Weight (kg)\")\n",
    "plt.ylabel(\"Frequency\")\n",
    "\n",
    "# 키 분포\n",
    "plt.subplot(2, 2, 4)\n",
    "sns.histplot(meta_data['Height'], bins=10, kde=True, color=\"salmon\")\n",
    "plt.title(\"Height Distribution\")\n",
    "plt.xlabel(\"Height (cm)\")\n",
    "plt.ylabel(\"Frequency\")\n",
    "\n",
    "plt.tight_layout()\n",
    "plt.show()"
   ]
  },
  {
   "cell_type": "markdown",
   "metadata": {},
   "source": [
    "#### - 성별에 따른 나이, 몸무게, 키 분포"
   ]
  },
  {
   "cell_type": "code",
   "execution_count": null,
   "metadata": {},
   "outputs": [],
   "source": [
    "plt.figure(figsize=(18, 5))\n",
    "\n",
    "# 성별에 따른 나이 분포\n",
    "plt.subplot(1, 3, 1)\n",
    "sns.histplot(data=meta_data, x=\"Age\", hue=\"Gender\", bins=10, kde=True, palette=\"Set2\")\n",
    "plt.title(\"Age Distribution by Gender\")\n",
    "\n",
    "# 성별에 따른 몸무게 분포\n",
    "plt.subplot(1, 3, 2)\n",
    "sns.histplot(data=meta_data, x=\"Weight\", hue=\"Gender\", bins=10, kde=True, palette=\"Set2\")\n",
    "plt.title(\"Weight Distribution by Gender\")\n",
    "\n",
    "# 성별에 따른 키 분포\n",
    "plt.subplot(1, 3, 3)\n",
    "sns.histplot(data=meta_data, x=\"Height\", hue=\"Gender\", bins=10, kde=True, palette=\"Set2\")\n",
    "plt.title(\"Height Distribution by Gender\")\n",
    "\n",
    "plt.tight_layout()\n",
    "plt.show()"
   ]
  },
  {
   "cell_type": "markdown",
   "metadata": {},
   "source": [
    "#### - Metadate, train 데이터 join (2분 30초 소요!)"
   ]
  },
  {
   "cell_type": "code",
   "execution_count": null,
   "metadata": {},
   "outputs": [],
   "source": [
    "def calculate_brightness(image, points):\n",
    "    # 1. 이미지 읽기\n",
    "    \n",
    "    if image is None:\n",
    "        raise ValueError(\"Image not found or unable to load!\")\n",
    "    \n",
    "    # 2. 다각형 마스크 생성\n",
    "    mask = np.zeros_like(image, dtype=np.uint8) \n",
    "    points = np.array(points, dtype=np.int32)    \n",
    "    cv2.fillPoly(mask, [points], 255)            \n",
    "\n",
    "    # 3. 다각형 내부 픽셀 추출\n",
    "    masked_pixels = cv2.bitwise_and(image, image, mask=mask)\n",
    "\n",
    "    # 4. 밝기 계산\n",
    "    brightness = cv2.mean(masked_pixels, mask=mask)[0]\n",
    "    return brightness\n",
    "\n",
    "def calculate_polygon_area(points):\n",
    "    points = np.array(points)\n",
    "    x = points[:, 0]\n",
    "    y = points[:, 1]\n",
    "    \n",
    "    area = 0.5 * np.abs(np.dot(x, np.roll(y, 1)) - np.dot(y, np.roll(x, 1)))\n",
    "    return area\n",
    "\n",
    "\n",
    "IMAGE_ROOT = image_dir\n",
    "LABEL_ROOT = json_dir\n",
    "CLASSES = [\n",
    "    'finger-1', 'finger-2', 'finger-3', 'finger-4', 'finger-5',\n",
    "    'finger-6', 'finger-7', 'finger-8', 'finger-9', 'finger-10',\n",
    "    'finger-11', 'finger-12', 'finger-13', 'finger-14', 'finger-15',\n",
    "    'finger-16', 'finger-17', 'finger-18', 'finger-19', 'Trapezium',\n",
    "    'Trapezoid', 'Capitate', 'Hamate', 'Scaphoid', 'Lunate',\n",
    "    'Triquetrum', 'Pisiform', 'Radius', 'Ulna',\n",
    "]\n",
    "CLASS2IND = {v: i for i, v in enumerate(CLASSES)}\n",
    "IND2CLASS = {v: k for k, v in CLASS2IND.items()}\n",
    "pngs = {\n",
    "    os.path.relpath(os.path.join(root, fname), start=IMAGE_ROOT)\n",
    "    for root, _dirs, files in os.walk(IMAGE_ROOT)\n",
    "    for fname in files\n",
    "    if os.path.splitext(fname)[1].lower() == \".png\"\n",
    "}\n",
    "jsons = {\n",
    "    os.path.relpath(os.path.join(root, fname), start=LABEL_ROOT)\n",
    "    for root, _dirs, files in os.walk(LABEL_ROOT)\n",
    "    for fname in files\n",
    "    if os.path.splitext(fname)[1].lower() == \".json\"\n",
    "}\n",
    "pngs = sorted(pngs)\n",
    "jsons = sorted(jsons)\n",
    "file_names = {json_file[:-5] for json_file in jsons}\n",
    "brightness = dict()\n",
    "areas = dict()\n",
    "# 밝기 정보와 면적 정보 추출\n",
    "for path in file_names:\n",
    "    brightness[path] = []\n",
    "    areas[path] = []\n",
    "    image_path = os.path.join(IMAGE_ROOT, path) + \".png\"\n",
    "    json_path  = os.path.join(LABEL_ROOT, path) + \".json\"\n",
    "    image = cv2.imread(image_path)\n",
    "    gray_image = cv2.cvtColor(image, cv2.COLOR_BGR2GRAY)\n",
    "    with open(json_path) as json_file:\n",
    "        anns = json.load(json_file)[\"annotations\"]\n",
    "        #print(\"file:\", json_path)\n",
    "        for class_id, ann in enumerate(anns):\n",
    "            total = 0\n",
    "            points = ann[\"points\"]\n",
    "            for (x, y) in points:\n",
    "                total += gray_image[y][x]\n",
    "            avg = total / len(points)\n",
    "            brightness[path].append(calculate_brightness(gray_image, points))\n",
    "            areas[path].append(calculate_polygon_area(points))\n",
    "            #print(f\"class: {i} / points_count: {len(points)}\")\n",
    "brightness_df = defaultdict(lambda: [0] * 29)\n",
    "area_df = defaultdict(lambda: [0] * 29)\n",
    "for file_path, lst in brightness.items():\n",
    "    id = int(file_path[2:5])\n",
    "    for i in range(len(lst)):\n",
    "        brightness_df[id][i] += lst[i]/2\n",
    "for file_path, lst in areas.items():\n",
    "    id = int(file_path[2:5])\n",
    "    for i in range(len(lst)):\n",
    "        area_df[id][i] += lst[i]\n",
    "brightness_df = pd.DataFrame(brightness_df).T\n",
    "brightness_df = brightness_df.reset_index()\n",
    "brightness_df = brightness_df.rename(columns={'index': 'ID'})  # 기존 인덱스를 'ID'로 이름 변경\n",
    "area_df = pd.DataFrame(area_df).T\n",
    "area_df = area_df.reset_index()\n",
    "area_df = area_df.rename(columns={'index': 'ID'})  # 기존 인덱스를 'ID'로 이름 변경\n",
    "# metadata 엑셀\n",
    "df = pd.read_excel(\"../data/meta_data.xlsx\")\n",
    "train_id_list = set()\n",
    "for path in jsons:\n",
    "    id = int(path[2:5])\n",
    "    train_id_list.add(id)\n",
    "train_df = df[df[\"ID\"].isin(train_id_list)]\n",
    "\n"
   ]
  },
  {
   "cell_type": "markdown",
   "metadata": {},
   "source": [
    "#### - 나이에 따른 뼈의 밀도 분포"
   ]
  },
  {
   "cell_type": "code",
   "execution_count": null,
   "metadata": {},
   "outputs": [],
   "source": [
    "final_df = pd.merge(brightness_df, train_df, on=\"ID\", how=\"inner\")\n",
    "final_df[\"total\"] = final_df.loc[:, 0:28].mean(axis=1)\n",
    "man_list = ['_x0008_남', '남', ' 남']\n",
    "final_df[\"성별\"] = np.where(final_df[\"성별\"].isin(man_list), \"남자\", \"여자\")\n",
    "\n",
    "fig, axes = plt.subplots(15, 2, figsize=(20, 100))\n",
    "for i in range(29):\n",
    "    axes[i//2][i%2].set_title(f\"class: {CLASSES[i]}\")\n",
    "    axes[i//2][i%2].set_ylim(0, 200)\n",
    "    axes[i//2][i%2].scatter(final_df[\"나이\"], final_df[i], alpha=0.5)\n",
    "    axes[i//2][i%2].set_xlabel(\"Age\")\n",
    "    axes[i//2][i%2].set_ylabel(\"Brightness\")\n",
    "plt.show()"
   ]
  },
  {
   "cell_type": "markdown",
   "metadata": {},
   "source": [
    "#### - 성별에 따른 뼈 밀도 분포"
   ]
  },
  {
   "cell_type": "code",
   "execution_count": null,
   "metadata": {},
   "outputs": [],
   "source": [
    "fig, axes = plt.subplots(15, 2, figsize=(20, 100))\n",
    "\n",
    "for i in range(29):\n",
    "    for gender in [\"남자\", \"여자\"]:\n",
    "        gender_df = final_df[final_df[\"성별\"]==gender]\n",
    "        axes[i//2][i%2].hist(gender_df[i], alpha=0.5, label=\"male\" if gender==\"남자\" else \"female\", bins=60)\n",
    "        axes[i//2][i%2].set_title(f\"{CLASSES[i]}\")\n",
    "        axes[i//2][i%2].set_xlim(60, 180)\n",
    "        axes[i//2][i%2].set_ylim(0, 35)\n",
    "        axes[i//2][i%2].legend()\n",
    "        axes[i//2][i%2].set_xlabel(\"brightness\")\n",
    "plt.show()"
   ]
  },
  {
   "cell_type": "markdown",
   "metadata": {},
   "source": [
    "#### - 키에 따른 뼈 면적 분포"
   ]
  },
  {
   "cell_type": "code",
   "execution_count": null,
   "metadata": {},
   "outputs": [],
   "source": [
    "area_merge = pd.merge(area_df, train_df, on=\"ID\", how=\"inner\")\n",
    "\n",
    "fig, axes = plt.subplots(15, 2, figsize=(20, 100))\n",
    "for i in range(29):\n",
    "    axes[i//2][i%2].scatter(area_merge[\"키(신장)\"], area_merge[i], alpha=0.5, color=\"green\")\n",
    "    axes[i//2][i%2].set_title(f\"{CLASSES[i]}\")\n",
    "    if i == 0 or i == 1 or i==8:\n",
    "        axes[i//2][i%2].set_ylim(0, 60000)\n",
    "    elif i == 3 or i==4 or i==7 or i==11 or i ==15 or i==16:\n",
    "        axes[i//2][i%2].set_ylim(0, 30000)\n",
    "    elif i==19:\n",
    "        axes[i//2][i%2].set_ylim(0, 70000)\n",
    "    elif i==12 or i==20 or i==24 or i==25:\n",
    "        axes[i//2][i%2].set_ylim(0, 40000)\n",
    "plt.show()"
   ]
  }
 ],
 "metadata": {
  "kernelspec": {
   "display_name": "base",
   "language": "python",
   "name": "python3"
  },
  "language_info": {
   "codemirror_mode": {
    "name": "ipython",
    "version": 3
   },
   "file_extension": ".py",
   "mimetype": "text/x-python",
   "name": "python",
   "nbconvert_exporter": "python",
   "pygments_lexer": "ipython3",
   "version": "3.10.13"
  }
 },
 "nbformat": 4,
 "nbformat_minor": 2
}
