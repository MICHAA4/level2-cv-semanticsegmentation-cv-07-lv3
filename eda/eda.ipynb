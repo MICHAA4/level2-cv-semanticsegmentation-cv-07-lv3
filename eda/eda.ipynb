{
 "cells": [
  {
   "cell_type": "markdown",
   "metadata": {},
   "source": [
    "## EDA\n",
    "### 라이브러리"
   ]
  },
  {
   "cell_type": "code",
   "execution_count": 15,
   "metadata": {},
   "outputs": [],
   "source": [
    "import os\n",
    "import json\n",
    "from glob import glob\n",
    "\n",
    "import pandas as pd\n",
    "import seaborn as sns\n",
    "import matplotlib.pyplot as plt\n",
    "from collections import Counter, defaultdict\n",
    "from shapely.geometry import Polygon"
   ]
  },
  {
   "cell_type": "markdown",
   "metadata": {},
   "source": [
    "### 경로"
   ]
  },
  {
   "cell_type": "code",
   "execution_count": 16,
   "metadata": {},
   "outputs": [],
   "source": [
    "image_dir = \"../data/train/DCM\"\n",
    "json_dir = \"../data/train/outputs_json\" "
   ]
  },
  {
   "cell_type": "markdown",
   "metadata": {},
   "source": [
    "### Class 분포\n",
    "#### - Class별 개수"
   ]
  },
  {
   "cell_type": "code",
   "execution_count": null,
   "metadata": {},
   "outputs": [],
   "source": [
    "label_counts = Counter()\n",
    "\n",
    "for json_file in glob(os.path.join(json_dir, \"**\", \"*.json\"), recursive=True):\n",
    "    with open(json_file, \"r\", encoding=\"utf-8\") as file:\n",
    "        data = json.load(file)\n",
    "        label_counts.update(annotation['label'] for annotation in data['annotations'])\n",
    "\n",
    "plt.figure(figsize=(30, 10))\n",
    "plt.bar(label_counts.keys(), label_counts.values(), color=\"skyblue\")\n",
    "plt.xlabel(\"Class Label\")\n",
    "plt.ylabel(\"Count\")\n"
   ]
  },
  {
   "cell_type": "markdown",
   "metadata": {},
   "source": [
    "#### - Class별 pixel 차지 비율"
   ]
  },
  {
   "cell_type": "code",
   "execution_count": null,
   "metadata": {},
   "outputs": [],
   "source": [
    "json_files = glob(os.path.join(json_dir, 'ID*', '*.json'))\n",
    "\n",
    "label_pixel_counts = defaultdict(float)\n",
    "\n",
    "for json_file in json_files:\n",
    "    with open(json_file, 'r', encoding='utf-8') as file:\n",
    "        data = json.load(file)\n",
    "\n",
    "    image_width = data['metadata']['width']\n",
    "    image_height = data['metadata']['height']\n",
    "    total_pixels = image_width * image_height\n",
    "\n",
    "    for annotation in data['annotations']:\n",
    "        label = annotation['label']\n",
    "        points = annotation['points']\n",
    "\n",
    "        polygon = Polygon(points)\n",
    "        area = polygon.area\n",
    "\n",
    "        label_pixel_counts[label] += area\n",
    "\n",
    "total_area = sum(label_pixel_counts.values())\n",
    "\n",
    "label_pixel_ratios = {label: (count / total_area) * 100 for label, count in label_pixel_counts.items()}\n",
    "\n",
    "labels = list(label_pixel_ratios.keys())\n",
    "ratios = list(label_pixel_ratios.values())\n",
    "\n",
    "plt.figure(figsize=(10, 6))\n",
    "plt.bar(labels, ratios)\n",
    "plt.xlabel('Class')\n",
    "plt.ylabel('Pixel Ratio (%)')\n",
    "plt.title('Pixel Ratio by Class')\n",
    "plt.xticks(rotation=45, ha='right')\n",
    "plt.tight_layout()\n",
    "plt.show()"
   ]
  },
  {
   "cell_type": "markdown",
   "metadata": {},
   "source": [
    "#### - 이미지 당 29개의 클래스 유무 확인"
   ]
  },
  {
   "cell_type": "markdown",
   "metadata": {},
   "source": [
    "### Metadata 분포\n",
    "#### - 나이, 성별, 몸무게, 키 분포"
   ]
  },
  {
   "cell_type": "code",
   "execution_count": null,
   "metadata": {},
   "outputs": [],
   "source": [
    "csv_path = \"../data/meta_data.csv\"\n",
    "meta_data = pd.read_csv(csv_path)\n",
    "\n",
    "meta_data.columns = ['Id', 'Age', 'Gender', 'Weight', 'Height', 'Extra']\n",
    "meta_data = meta_data.replace({'Gender' : '남'}, 'Male')\n",
    "meta_data = meta_data.replace({'Gender' : '여'}, 'Female')\n",
    "\n",
    "plt.figure(figsize=(12, 10))\n",
    "\n",
    "# 나이 분포\n",
    "plt.subplot(2, 2, 1)\n",
    "sns.histplot(meta_data['Age'], bins=10, kde=True, color=\"skyblue\")\n",
    "plt.title(\"Age Distribution\")\n",
    "plt.xlabel(\"Age\")\n",
    "plt.ylabel(\"Frequency\")\n",
    "\n",
    "# 성별 분포\n",
    "plt.subplot(2, 2, 2)\n",
    "sns.countplot(x='Gender', data=meta_data, palette=\"Set2\")\n",
    "plt.title(\"Gender Distribution\")\n",
    "plt.xlabel(\"Gender\")\n",
    "plt.ylabel(\"Count\")\n",
    "\n",
    "# 몸무게 분포\n",
    "plt.subplot(2, 2, 3)\n",
    "sns.histplot(meta_data['Weight'], bins=10, kde=True, color=\"lightgreen\")\n",
    "plt.title(\"Weight Distribution\")\n",
    "plt.xlabel(\"Weight (kg)\")\n",
    "plt.ylabel(\"Frequency\")\n",
    "\n",
    "# 키 분포\n",
    "plt.subplot(2, 2, 4)\n",
    "sns.histplot(meta_data['Height'], bins=10, kde=True, color=\"salmon\")\n",
    "plt.title(\"Height Distribution\")\n",
    "plt.xlabel(\"Height (cm)\")\n",
    "plt.ylabel(\"Frequency\")\n",
    "\n",
    "plt.tight_layout()\n",
    "plt.show()"
   ]
  },
  {
   "cell_type": "markdown",
   "metadata": {},
   "source": [
    "#### - 성별에 따른 나이, 몸무게, 키 분포"
   ]
  },
  {
   "cell_type": "code",
   "execution_count": null,
   "metadata": {},
   "outputs": [],
   "source": [
    "plt.figure(figsize=(18, 5))\n",
    "\n",
    "# 성별에 따른 나이 분포\n",
    "plt.subplot(1, 3, 1)\n",
    "sns.histplot(data=meta_data, x=\"Age\", hue=\"Gender\", bins=10, kde=True, palette=\"Set2\")\n",
    "plt.title(\"Age Distribution by Gender\")\n",
    "\n",
    "# 성별에 따른 몸무게 분포\n",
    "plt.subplot(1, 3, 2)\n",
    "sns.histplot(data=meta_data, x=\"Weight\", hue=\"Gender\", bins=10, kde=True, palette=\"Set2\")\n",
    "plt.title(\"Weight Distribution by Gender\")\n",
    "\n",
    "# 성별에 따른 키 분포\n",
    "plt.subplot(1, 3, 3)\n",
    "sns.histplot(data=meta_data, x=\"Height\", hue=\"Gender\", bins=10, kde=True, palette=\"Set2\")\n",
    "plt.title(\"Height Distribution by Gender\")\n",
    "\n",
    "plt.tight_layout()\n",
    "plt.show()"
   ]
  },
  {
   "cell_type": "markdown",
   "metadata": {},
   "source": [
    "#### - 나이, 성별에 따른 뼈의 밀도 분포"
   ]
  },
  {
   "cell_type": "markdown",
   "metadata": {},
   "source": [
    "#### - 키에 따른 뼈 면적 분포"
   ]
  }
 ],
 "metadata": {
  "kernelspec": {
   "display_name": "Python 3",
   "language": "python",
   "name": "python3"
  },
  "language_info": {
   "codemirror_mode": {
    "name": "ipython",
    "version": 3
   },
   "file_extension": ".py",
   "mimetype": "text/x-python",
   "name": "python",
   "nbconvert_exporter": "python",
   "pygments_lexer": "ipython3",
   "version": "3.10.13"
  }
 },
 "nbformat": 4,
 "nbformat_minor": 2
}
